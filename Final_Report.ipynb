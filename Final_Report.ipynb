{
 "cells": [
  {
   "cell_type": "markdown",
   "metadata": {},
   "source": [
    "# Final Report \n",
    "Group members: Loay Al-Abri, "
   ]
  },
  {
   "cell_type": "markdown",
   "metadata": {},
   "source": [
    "(1) Introduction\n",
    "\n",
    "Start with relevant background information on the topic to prepare those unfamiliar for the rest of your proposal.\n",
    "\n",
    "Formulate one or two questions for investigation and detail the dataset that will be utilized to address these questions.\n",
    "\n",
    "Additionally, align your question/objectives with the existing literature. To contextualize your study, include a minimum of two scientific publications (these should be listed in the References section).\n",
    "\n",
    "(2) Methods and Results\n",
    "\n",
    "In this section, you will include:\n",
    "\n",
    "a) “Exploratory Data Analysis (EDA)”\n",
    "\n",
    "    Demonstrate that the dataset can be read into R.\n",
    "    Clean and wrangle your data into a tidy format.\n",
    "    Plot the relevant raw data, tailoring your plot to address your question.\n",
    "        Make sure to explore the association of the explanatory variables with the response.\n",
    "    Any summary tables that are relevant to your analysis.\n",
    "    Be sure not to print output that takes up a lot of screen space.\n",
    "\n",
    "Your EDA must be comprehensive with high quality plots.\n",
    "\n",
    "b) “Methods: Plan”\n",
    "\n",
    "    Describe in written English the methods you used to perform your analysis from beginning to end, and narrate the code that does the analysis.\n",
    "    If included, describe the “Feature Selection” process and how and why you choose the covariates of your final model.\n",
    "    Make sure to interpret/explain the results you obtain. It’s not enough to just say, “I fitted a linear model with these covariates, and my R-square is 0.87”.\n",
    "        If inference is the aim of your project, a detailed interpretation of your fitted model is required, as well as a discussion of relevant quantities (e.g., are the coefficients significant? How does the model fit the data)?\n",
    "        A careful model assessment must be conducted.\n",
    "        If prediction is the project's aim, describe the test data used or how it was created.\n",
    "    Ensure your tables and/or figures are labelled with a figure/table number.\n",
    "\n",
    "(3) Discussion\n",
    "\n",
    "In this section, you’ll interpret the results you obtained in the previous section with respect to the main question/goal of your project.\n",
    "\n",
    "    Summarize what you found and the implications/impact of your findings.\n",
    "    If relevant, discuss whether your results were what you expected to find.\n",
    "    Discuss how your model could be improved;\n",
    "    Discuss future questions/research this study could lead to.\n",
    "\n",
    "\n",
    "(4) References\n",
    "\n",
    "At least two citations of literature relevant to the project. The citation format is your choice – just be consistent. Make sure to cite the source of your data as well."
   ]
  },
  {
   "cell_type": "markdown",
   "metadata": {},
   "source": [
    "Questions:\n",
    "- "
   ]
  },
  {
   "cell_type": "code",
   "execution_count": null,
   "metadata": {
    "vscode": {
     "languageId": "plaintext"
    }
   },
   "outputs": [],
   "source": [
    "Final Report"
   ]
  }
 ],
 "metadata": {
  "language_info": {
   "name": "python"
  }
 },
 "nbformat": 4,
 "nbformat_minor": 2
}
