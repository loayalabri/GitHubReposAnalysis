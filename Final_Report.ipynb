{
 "cells": [
  {
   "cell_type": "markdown",
   "metadata": {},
   "source": [
    "# Final Report \n",
    "Group members: Loay Al-Abri, Roy Oh"
   ]
  },
  {
   "cell_type": "markdown",
   "metadata": {},
   "source": [
    "### Introduction"
   ]
  },
  {
   "cell_type": "markdown",
   "metadata": {},
   "source": [
    "In today’s digital age, platforms like Instagram and Twitter measure popularity through “Likes,” which have become increasingly valuable in the online ecosystem. Similarly, GitHub, the world’s largest website of open-source projects, measures interest and popularity through “Stars,” reflecting user engagement with a repository’s content.\n",
    "\n",
    "Understanding the factors that influence the number of stars a repository receives can provide valuable insights that make ceratin open-source projects more appealing and widely addopted. Specifically, examining how repository features like the number of forks, issues, and size are associated with popularity or stars can highlight the attributes of successful projects. "
   ]
  },
  {
   "cell_type": "markdown",
   "metadata": {},
   "source": [
    "Our project uses a data set from Kaggle called \"Most Popular Github Repositories (Projects).\" This data set consists over 215,000+ top projects by star with over 167 stars. The author of this data set collected the data by using Github search API.\n",
    "\n",
    "The data set is found here: https://www.kaggle.com/datasets/donbarbos/github-repos/data\n",
    "\n",
    "The data set contains 24 variables:\n",
    "\n",
    "- **Name**: Name of the GitHub repository\n",
    "- **Description** : A brief textual description that summarizes the purpose or focus of the repository\n",
    "- **URL** : The URL or web address that links to the GitHub repository, which is a unique identifier for the repository\n",
    "- **Created At**: Date and time when the repository was initially created in ISO 8601 format (eg. 2020-07-10 15:00:00.000)\n",
    "- **Updated At** The date and time of the most recent update or modification to the repository, in ISO 8601 format\n",
    "- **Homepage**:The URL to the homepage or landing page associated with the repository, providing additional information or resources\n",
    "- **Size**:\tThe size of the repository in bytes, indicating the total storage space used by the repository's files and data\n",
    "- **Stars** : The number of stars or likes that the repository has received from other GitHub users, indicating its popularity or interest\n",
    "- **Forks**: The number of times the repository has been forked by other GitHub users. A fork is a copy of a repository that allows you to freely experiment with changes to a project without affecting the original repository.\n",
    "- **Issues**: The total number of open issues\n",
    "- **Watchers**: The number of GitHub users who are \"watching\" or monitoring the repository for updates and changes\n",
    "- **Language**:\tThe primary programming language\n",
    "- **License**: Information about the software license using a license identifier\n",
    "- **Topics**: A list of topics or tags associated with the repository, helping users discover related projects and topics of interest\n",
    "- **Has Issues**: A boolean value indicating whether the repository has an issue tracker enabled. In this case, it's true, meaning it has an issue tracker\n",
    "- **Has Projects**: A boolean value indicating whether the repository uses GitHub Projects to manage and organize tasks and work items\n",
    "- **Has Downloads**: A boolean value indicating whether the repository offers downloadable files or assets to users\n",
    "- **Has Wiki**:\tA boolean value indicating whether the repository has an associated wiki with additional documentation and information\n",
    "- **Has Pages**: A boolean value indicating whether the repository has GitHub Pages enabled, allowing the creation of a website associated with the repository.\n",
    "- **Has Discussions**: A boolean value indicating whether the repository has GitHub Discussions enabled, allowing community discussions and collaboration\n",
    "- **Is Fork**: A boolean value indicating whether the repository is a fork of another repository. In this case, it's false, meaning it is not a fork\n",
    "- **Is Archived**: A boolean value indicating whether the repository is archived. Archived repositories are typically read-only and are no longer actively maintained\n",
    "- **Is Template**:\tA boolean value indicating whether the repository is set up as a template\n",
    "- **Default Branch**: The name of the default branch\n",
    "\n",
    "The types of the variables are described below:\n",
    "\n",
    "**Character (character)**: Name, Description, URL, Homepage, Language, License, Topics, Default Branch \\\n",
    "**Double (double)**: Size, Stars, Forks, Issues, Watchers \\\n",
    "**Logical (logical)**: Has Issues, Has Projects, Has Downloads, Has Wiki, Has Pages, Has Discussions \\\n",
    "**Datetime (date-time)**: Created At, Updated At"
   ]
  },
  {
   "cell_type": "markdown",
   "metadata": {},
   "source": [
    "Our project aims to answer the question: **How is the stars received by a repository related to the number of times it has been forked, its number of issues, size and discussion settings?** \n",
    "\n",
    "Additionally, we hope our project will provide guidance to developers aiming to improve the visibility and engagement of their repositories.\n",
    "\n",
    "\n",
    "This is an inferential question as we are focused on understanding the true relationship between the explanatory variables and the response instead of predicting the response for new observations. In this study, *Stars* would be the response variable and *Size, Issues,  Forks and Has_Discussions* will serve as the explanatory variables."
   ]
  },
  {
   "cell_type": "markdown",
   "metadata": {},
   "source": [
    "Some existing studies provide valuable information of understanding the factors that influence the popularity of github repositories which align to our research question.\n",
    "\n",
    "\"Understanding the Factors that Impact the Popularity of Github Respositories\" by Borges et al. (2016) uses 2,500 popular respositories to answer several research questions related to popularity. The results indicated that organization owned repositories were more popular compared to those that were owned by individuals, constantly evolving and improving repositories were important factors to popularity, and stars had a strong correlation with forks.\n",
    "\n",
    "\"Study the correlation between the readme file of GitHub projects and their popularity\" by Wang et al. (2023) study 5,000 github repositories to look into the relationship between readme file related factors and the popularity of the repository. Readme file related features included the number of images, links, updates, age, and etc. Similar to Borges et al. (2016), number of lists and the frequency of updates were significantly important factors that distinguished popular and non-popular repositories - the higher the count the more popular.\n",
    "\n",
    "Extrapolating from the prior research papers, we expect that engagement with the repository and community-oriented features are vital in popularity. From our explanatory variables, has_discussions is considered a community-oriented feature which we expect to be postively associated with stars (popularity)."
   ]
  },
  {
   "cell_type": "markdown",
   "metadata": {},
   "source": [
    "### Reference\n",
    "\n",
    "Borges, H., Hora, A., & Valente, M. T. (2016). Understanding the factors that impact the popularity of github repositories. 2016 IEEE International Conference on Software Maintenance and Evolution (ICSME). https://doi.org/10.1109/icsme.2016.31 \n",
    "\n",
    "Wang, T., Wang, S., & Chen, T. (2023). Study the correlation between the readme file of github projects and their popularity. Journal of Systems and Software, 205, 111806. https://doi.org/10.1016/j.jss.2023.111806 "
   ]
  }
 ],
 "metadata": {
  "kernelspec": {
   "display_name": "Python 3 (ipykernel)",
   "language": "python",
   "name": "python3"
  },
  "language_info": {
   "codemirror_mode": {
    "name": "ipython",
    "version": 3
   },
   "file_extension": ".py",
   "mimetype": "text/x-python",
   "name": "python",
   "nbconvert_exporter": "python",
   "pygments_lexer": "ipython3",
   "version": "3.11.9"
  }
 },
 "nbformat": 4,
 "nbformat_minor": 4
}
