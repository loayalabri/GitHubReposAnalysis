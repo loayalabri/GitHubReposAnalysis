{
 "cells": [
  {
   "cell_type": "markdown",
   "metadata": {},
   "source": [
    "# Final Report \n",
    "Group members: Loay Al-Abri, "
   ]
  },
  {
   "cell_type": "markdown",
   "metadata": {},
   "source": [
    "\n",
    "(2) Methods and Results\n",
    "\n",
    "In this section, you will include:\n",
    "\n",
    "\n",
    "b) “Methods: Plan”\n",
    "\n",
    "    - Describe in written English the methods you used to perform your analysis from beginning to end, and narrate the code that does the analysis.\n",
    "    - If included, describe the “Feature Selection” process and how and why you choose the covariates of your final model.\n",
    "    - Make sure to interpret/explain the results you obtain. It’s not enough to just say, “I fitted a linear model with these covariates, and my R-square is 0.87”.\n",
    "        - If inference is the aim of your project, a detailed interpretation of your fitted model is required, as well as a discussion of relevant quantities (e.g., are the coefficients significant? How does the model fit the data)?\n",
    "        - A careful model assessment must be conducted.\n",
    "        - If prediction is the project's aim, describe the test data used or how it was created.\n",
    "    - Ensure your tables and/or figures are labelled with a figure/table number.\n"
   ]
  },
  {
   "cell_type": "markdown",
   "metadata": {},
   "source": [
    "Questions:\n",
    "- How is the stars of a repository related to forks, issues, size, and discussion setting?"
   ]
  },
  {
   "cell_type": "markdown",
   "metadata": {},
   "source": [
    "In this project, we will perform analysis on the number of Stars a GitHub repository has using the most essential variables that affect the number of Stars a GitHub Repository might get. To start with, we will use to baseline models to compare our model's performance with. The first baseline model is a model where we always perdict the mean number of stars. We expect this model to have $R^2$ close to 0. and it will have poor performance. The second baseline model we will use is a linear regression model that includes all the variables in the dataset as explanatory variables. Thus, our final model should perform better than the maximal model because the explanatory data analysis showed that the variables we chose are the once most essentail determining the number of stars a repository has. Finally, we will diagnose our model to examine whether any of the linear regression assumptions are violated. "
   ]
  },
  {
   "cell_type": "code",
   "execution_count": 1,
   "metadata": {
    "vscode": {
     "languageId": "r"
    }
   },
   "outputs": [
    {
     "name": "stderr",
     "output_type": "stream",
     "text": [
      "── \u001b[1mAttaching core tidyverse packages\u001b[22m ──────────────────────── tidyverse 2.0.0 ──\n",
      "\u001b[32m✔\u001b[39m \u001b[34mdplyr    \u001b[39m 1.1.4     \u001b[32m✔\u001b[39m \u001b[34mreadr    \u001b[39m 2.1.5\n",
      "\u001b[32m✔\u001b[39m \u001b[34mforcats  \u001b[39m 1.0.0     \u001b[32m✔\u001b[39m \u001b[34mstringr  \u001b[39m 1.5.1\n",
      "\u001b[32m✔\u001b[39m \u001b[34mggplot2  \u001b[39m 3.5.1     \u001b[32m✔\u001b[39m \u001b[34mtibble   \u001b[39m 3.2.1\n",
      "\u001b[32m✔\u001b[39m \u001b[34mlubridate\u001b[39m 1.9.3     \u001b[32m✔\u001b[39m \u001b[34mtidyr    \u001b[39m 1.3.1\n",
      "\u001b[32m✔\u001b[39m \u001b[34mpurrr    \u001b[39m 1.0.2     \n",
      "── \u001b[1mConflicts\u001b[22m ────────────────────────────────────────── tidyverse_conflicts() ──\n",
      "\u001b[31m✖\u001b[39m \u001b[34mdplyr\u001b[39m::\u001b[32mfilter()\u001b[39m masks \u001b[34mstats\u001b[39m::filter()\n",
      "\u001b[31m✖\u001b[39m \u001b[34mdplyr\u001b[39m::\u001b[32mlag()\u001b[39m    masks \u001b[34mstats\u001b[39m::lag()\n",
      "\u001b[36mℹ\u001b[39m Use the conflicted package (\u001b[3m\u001b[34m<http://conflicted.r-lib.org/>\u001b[39m\u001b[23m) to force all conflicts to become errors\n",
      "── \u001b[1mAttaching packages\u001b[22m ────────────────────────────────────── tidymodels 1.2.0 ──\n",
      "\n",
      "\u001b[32m✔\u001b[39m \u001b[34mbroom       \u001b[39m 1.0.5     \u001b[32m✔\u001b[39m \u001b[34mrsample     \u001b[39m 1.2.1\n",
      "\u001b[32m✔\u001b[39m \u001b[34mdials       \u001b[39m 1.3.0     \u001b[32m✔\u001b[39m \u001b[34mtune        \u001b[39m 1.2.1\n",
      "\u001b[32m✔\u001b[39m \u001b[34minfer       \u001b[39m 1.0.7     \u001b[32m✔\u001b[39m \u001b[34mworkflows   \u001b[39m 1.1.4\n",
      "\u001b[32m✔\u001b[39m \u001b[34mmodeldata   \u001b[39m 1.4.0     \u001b[32m✔\u001b[39m \u001b[34mworkflowsets\u001b[39m 1.1.0\n",
      "\u001b[32m✔\u001b[39m \u001b[34mparsnip     \u001b[39m 1.2.1     \u001b[32m✔\u001b[39m \u001b[34myardstick   \u001b[39m 1.3.1\n",
      "\u001b[32m✔\u001b[39m \u001b[34mrecipes     \u001b[39m 1.1.0     \n",
      "\n",
      "── \u001b[1mConflicts\u001b[22m ───────────────────────────────────────── tidymodels_conflicts() ──\n",
      "\u001b[31m✖\u001b[39m \u001b[34mscales\u001b[39m::\u001b[32mdiscard()\u001b[39m masks \u001b[34mpurrr\u001b[39m::discard()\n",
      "\u001b[31m✖\u001b[39m \u001b[34mdplyr\u001b[39m::\u001b[32mfilter()\u001b[39m   masks \u001b[34mstats\u001b[39m::filter()\n",
      "\u001b[31m✖\u001b[39m \u001b[34mrecipes\u001b[39m::\u001b[32mfixed()\u001b[39m  masks \u001b[34mstringr\u001b[39m::fixed()\n",
      "\u001b[31m✖\u001b[39m \u001b[34mdplyr\u001b[39m::\u001b[32mlag()\u001b[39m      masks \u001b[34mstats\u001b[39m::lag()\n",
      "\u001b[31m✖\u001b[39m \u001b[34myardstick\u001b[39m::\u001b[32mspec()\u001b[39m masks \u001b[34mreadr\u001b[39m::spec()\n",
      "\u001b[31m✖\u001b[39m \u001b[34mrecipes\u001b[39m::\u001b[32mstep()\u001b[39m   masks \u001b[34mstats\u001b[39m::step()\n",
      "\u001b[34m•\u001b[39m Use suppressPackageStartupMessages() to eliminate package startup messages\n",
      "\n",
      "\n",
      "Attaching package: ‘Metrics’\n",
      "\n",
      "\n",
      "The following objects are masked from ‘package:yardstick’:\n",
      "\n",
      "    accuracy, mae, mape, mase, precision, recall, rmse, smape\n",
      "\n",
      "\n",
      "Registered S3 method overwritten by 'GGally':\n",
      "  method from   \n",
      "  +.gg   ggplot2\n",
      "\n",
      "\n",
      "Attaching package: ‘gridExtra’\n",
      "\n",
      "\n",
      "The following object is masked from ‘package:dplyr’:\n",
      "\n",
      "    combine\n",
      "\n",
      "\n",
      "\n",
      "Attaching package: ‘cowplot’\n",
      "\n",
      "\n",
      "The following object is masked from ‘package:lubridate’:\n",
      "\n",
      "    stamp\n",
      "\n",
      "\n"
     ]
    }
   ],
   "source": [
    "library(tidyverse)\n",
    "library(tidymodels)\n",
    "library(Metrics)\n",
    "library(ggplot2)\n",
    "library(broom)\n",
    "library(GGally)\n",
    "library(gridExtra)\n",
    "library(cowplot)"
   ]
  },
  {
   "cell_type": "code",
   "execution_count": 35,
   "metadata": {
    "vscode": {
     "languageId": "r"
    }
   },
   "outputs": [
    {
     "data": {
      "text/html": [
       "<table class=\"dataframe\">\n",
       "<caption>A data.frame: 6 × 13</caption>\n",
       "<thead>\n",
       "\t<tr><th></th><th scope=col>Size</th><th scope=col>Stars</th><th scope=col>Forks</th><th scope=col>Issues</th><th scope=col>Has.Issues</th><th scope=col>Has.Projects</th><th scope=col>Has.Downloads</th><th scope=col>Has.Wiki</th><th scope=col>Has.Pages</th><th scope=col>Has.Discussions</th><th scope=col>Is.Archived</th><th scope=col>Is.Template</th><th scope=col>Default_branch</th></tr>\n",
       "\t<tr><th></th><th scope=col>&lt;int&gt;</th><th scope=col>&lt;int&gt;</th><th scope=col>&lt;int&gt;</th><th scope=col>&lt;int&gt;</th><th scope=col>&lt;fct&gt;</th><th scope=col>&lt;fct&gt;</th><th scope=col>&lt;fct&gt;</th><th scope=col>&lt;fct&gt;</th><th scope=col>&lt;fct&gt;</th><th scope=col>&lt;fct&gt;</th><th scope=col>&lt;fct&gt;</th><th scope=col>&lt;fct&gt;</th><th scope=col>&lt;chr&gt;</th></tr>\n",
       "</thead>\n",
       "<tbody>\n",
       "\t<tr><th scope=row>1</th><td>   843</td><td>237</td><td>23</td><td> 5</td><td>True</td><td>True</td><td>True</td><td>True </td><td>False</td><td>False</td><td>False</td><td>False</td><td>main  </td></tr>\n",
       "\t<tr><th scope=row>2</th><td>  2411</td><td>237</td><td>32</td><td>36</td><td>True</td><td>True</td><td>True</td><td>False</td><td>False</td><td>False</td><td>False</td><td>False</td><td>master</td></tr>\n",
       "\t<tr><th scope=row>3</th><td> 58257</td><td>237</td><td>71</td><td> 2</td><td>True</td><td>True</td><td>True</td><td>True </td><td>True </td><td>False</td><td>False</td><td>False</td><td>master</td></tr>\n",
       "\t<tr><th scope=row>4</th><td>   685</td><td>237</td><td>28</td><td> 9</td><td>True</td><td>True</td><td>True</td><td>True </td><td>False</td><td>True </td><td>False</td><td>False</td><td>master</td></tr>\n",
       "\t<tr><th scope=row>5</th><td>306952</td><td>237</td><td>74</td><td>57</td><td>True</td><td>True</td><td>True</td><td>True </td><td>False</td><td>True </td><td>False</td><td>False</td><td>main  </td></tr>\n",
       "\t<tr><th scope=row>6</th><td>   718</td><td>237</td><td>44</td><td> 0</td><td>True</td><td>True</td><td>True</td><td>True </td><td>False</td><td>False</td><td>False</td><td>False</td><td>master</td></tr>\n",
       "</tbody>\n",
       "</table>\n"
      ],
      "text/latex": [
       "A data.frame: 6 × 13\n",
       "\\begin{tabular}{r|lllllllllllll}\n",
       "  & Size & Stars & Forks & Issues & Has.Issues & Has.Projects & Has.Downloads & Has.Wiki & Has.Pages & Has.Discussions & Is.Archived & Is.Template & Default\\_branch\\\\\n",
       "  & <int> & <int> & <int> & <int> & <fct> & <fct> & <fct> & <fct> & <fct> & <fct> & <fct> & <fct> & <chr>\\\\\n",
       "\\hline\n",
       "\t1 &    843 & 237 & 23 &  5 & True & True & True & True  & False & False & False & False & main  \\\\\n",
       "\t2 &   2411 & 237 & 32 & 36 & True & True & True & False & False & False & False & False & master\\\\\n",
       "\t3 &  58257 & 237 & 71 &  2 & True & True & True & True  & True  & False & False & False & master\\\\\n",
       "\t4 &    685 & 237 & 28 &  9 & True & True & True & True  & False & True  & False & False & master\\\\\n",
       "\t5 & 306952 & 237 & 74 & 57 & True & True & True & True  & False & True  & False & False & main  \\\\\n",
       "\t6 &    718 & 237 & 44 &  0 & True & True & True & True  & False & False & False & False & master\\\\\n",
       "\\end{tabular}\n"
      ],
      "text/markdown": [
       "\n",
       "A data.frame: 6 × 13\n",
       "\n",
       "| <!--/--> | Size &lt;int&gt; | Stars &lt;int&gt; | Forks &lt;int&gt; | Issues &lt;int&gt; | Has.Issues &lt;fct&gt; | Has.Projects &lt;fct&gt; | Has.Downloads &lt;fct&gt; | Has.Wiki &lt;fct&gt; | Has.Pages &lt;fct&gt; | Has.Discussions &lt;fct&gt; | Is.Archived &lt;fct&gt; | Is.Template &lt;fct&gt; | Default_branch &lt;chr&gt; |\n",
       "|---|---|---|---|---|---|---|---|---|---|---|---|---|---|\n",
       "| 1 |    843 | 237 | 23 |  5 | True | True | True | True  | False | False | False | False | main   |\n",
       "| 2 |   2411 | 237 | 32 | 36 | True | True | True | False | False | False | False | False | master |\n",
       "| 3 |  58257 | 237 | 71 |  2 | True | True | True | True  | True  | False | False | False | master |\n",
       "| 4 |    685 | 237 | 28 |  9 | True | True | True | True  | False | True  | False | False | master |\n",
       "| 5 | 306952 | 237 | 74 | 57 | True | True | True | True  | False | True  | False | False | main   |\n",
       "| 6 |    718 | 237 | 44 |  0 | True | True | True | True  | False | False | False | False | master |\n",
       "\n"
      ],
      "text/plain": [
       "  Size   Stars Forks Issues Has.Issues Has.Projects Has.Downloads Has.Wiki\n",
       "1    843 237   23     5     True       True         True          True    \n",
       "2   2411 237   32    36     True       True         True          False   \n",
       "3  58257 237   71     2     True       True         True          True    \n",
       "4    685 237   28     9     True       True         True          True    \n",
       "5 306952 237   74    57     True       True         True          True    \n",
       "6    718 237   44     0     True       True         True          True    \n",
       "  Has.Pages Has.Discussions Is.Archived Is.Template Default_branch\n",
       "1 False     False           False       False       main          \n",
       "2 False     False           False       False       master        \n",
       "3 True      False           False       False       master        \n",
       "4 False     True            False       False       master        \n",
       "5 False     True            False       False       main          \n",
       "6 False     False           False       False       master        "
      ]
     },
     "metadata": {},
     "output_type": "display_data"
    }
   ],
   "source": [
    "git_rep <- read.csv(\"data/repositories.csv\") %>%\n",
    "    select(-Name, -Homepage, -URL, -Topics, -License, -Description,-`Created.At`, -`Updated.At`, -Language, -Watchers,\n",
    "     - Is.Fork) %>%\n",
    "     mutate(\n",
    "        Default_branch = case_when(\n",
    "            `Default.Branch` == \"master\" ~ \"master\",\n",
    "            `Default.Branch` == \"main\" ~ \"main\",\n",
    "            TRUE ~ \"other\"\n",
    "        )\n",
    "    ) %>%\n",
    "    select(-`Default.Branch`) %>%\n",
    "    mutate(Has.Issues = as.factor(Has.Issues),\n",
    "           Has.Projects = as.factor(Has.Projects),\n",
    "           Has.Downloads = as.factor(Has.Downloads),\n",
    "           Has.Wiki = as.factor(Has.Wiki),\n",
    "           Has.Pages = as.factor(Has.Pages),\n",
    "           Has.Discussions = as.factor(Has.Discussions),\n",
    "           Is.Archived = as.factor(Is.Archived),\n",
    "           Is.Template = as.factor(Is.Template)\n",
    "           )\n",
    "\n",
    "git_split <- initial_split(git_rep, prop = 0.7, strata = Stars)\n",
    "git_tr <- training(git_split)\n",
    "git_te <- testing(git_split)\n",
    "head(git_tr)"
   ]
  },
  {
   "cell_type": "code",
   "execution_count": 36,
   "metadata": {
    "vscode": {
     "languageId": "r"
    }
   },
   "outputs": [],
   "source": [
    "compute_r_sqr <- function(y_actual, y_predicted) {\n",
    "    SS_residuals <- sum((y_actual - y_predicted)^2)\n",
    "    SS_total <- sum((y_actual - mean(y_actual))^2)\n",
    "    R2 <- 1 - (SS_residuals / SS_total)\n",
    "    return(R2)\n",
    "}"
   ]
  },
  {
   "cell_type": "code",
   "execution_count": 42,
   "metadata": {
    "vscode": {
     "languageId": "r"
    }
   },
   "outputs": [
    {
     "data": {
      "text/html": [
       "<table class=\"dataframe\">\n",
       "<caption>A data.frame: 2 × 4</caption>\n",
       "<thead>\n",
       "\t<tr><th scope=col>Model</th><th scope=col>data</th><th scope=col>r_sqr</th><th scope=col>rmse</th></tr>\n",
       "\t<tr><th scope=col>&lt;chr&gt;</th><th scope=col>&lt;chr&gt;</th><th scope=col>&lt;dbl&gt;</th><th scope=col>&lt;dbl&gt;</th></tr>\n",
       "</thead>\n",
       "<tbody>\n",
       "\t<tr><td>mean model</td><td>train</td><td>0</td><td>4026.17</td></tr>\n",
       "\t<tr><td>mean model</td><td>test </td><td>0</td><td>3912.36</td></tr>\n",
       "</tbody>\n",
       "</table>\n"
      ],
      "text/latex": [
       "A data.frame: 2 × 4\n",
       "\\begin{tabular}{llll}\n",
       " Model & data & r\\_sqr & rmse\\\\\n",
       " <chr> & <chr> & <dbl> & <dbl>\\\\\n",
       "\\hline\n",
       "\t mean model & train & 0 & 4026.17\\\\\n",
       "\t mean model & test  & 0 & 3912.36\\\\\n",
       "\\end{tabular}\n"
      ],
      "text/markdown": [
       "\n",
       "A data.frame: 2 × 4\n",
       "\n",
       "| Model &lt;chr&gt; | data &lt;chr&gt; | r_sqr &lt;dbl&gt; | rmse &lt;dbl&gt; |\n",
       "|---|---|---|---|\n",
       "| mean model | train | 0 | 4026.17 |\n",
       "| mean model | test  | 0 | 3912.36 |\n",
       "\n"
      ],
      "text/plain": [
       "  Model      data  r_sqr rmse   \n",
       "1 mean model train 0     4026.17\n",
       "2 mean model test  0     3912.36"
      ]
     },
     "metadata": {},
     "output_type": "display_data"
    }
   ],
   "source": [
    "mean_model <- lm(Stars ~ 1, data = git_tr)\n",
    "mean_model_summary <- summary(mean_model)\n",
    "preds <- predict(mean_model, newdata = git_te, type = \"response\")\n",
    "results <- data.frame(Model = c(\"mean model\", \"mean model\"),\n",
    "                    data = c(\"train\", \"test\"),\n",
    "                    r_sqr = c(round(mean_model_summary$r.squared, 2), round(compute_r_sqr(git_te$Stars, preds), 2)),\n",
    "                    rmse = c(round(rmse(mean_model$fitted.values, git_tr$Stars), 2), \n",
    "                            round(rmse(preds, git_te$Stars), 2)))\n",
    "results"
   ]
  },
  {
   "cell_type": "markdown",
   "metadata": {},
   "source": [
    "The results from the mean model are not impressive, but that is expected since the model always predicts the mean number of Stars in the training data. "
   ]
  },
  {
   "cell_type": "code",
   "execution_count": 43,
   "metadata": {
    "vscode": {
     "languageId": "r"
    }
   },
   "outputs": [
    {
     "data": {
      "text/html": [
       "<table class=\"dataframe\">\n",
       "<caption>A data.frame: 4 × 4</caption>\n",
       "<thead>\n",
       "\t<tr><th scope=col>Model</th><th scope=col>data</th><th scope=col>r_sqr</th><th scope=col>rmse</th></tr>\n",
       "\t<tr><th scope=col>&lt;chr&gt;</th><th scope=col>&lt;chr&gt;</th><th scope=col>&lt;dbl&gt;</th><th scope=col>&lt;dbl&gt;</th></tr>\n",
       "</thead>\n",
       "<tbody>\n",
       "\t<tr><td>mean model</td><td>train</td><td>0.00</td><td>4026.17</td></tr>\n",
       "\t<tr><td>mean model</td><td>test </td><td>0.00</td><td>3912.36</td></tr>\n",
       "\t<tr><td>full model</td><td>train</td><td>0.37</td><td>3207.63</td></tr>\n",
       "\t<tr><td>full model</td><td>test </td><td>0.35</td><td>3153.77</td></tr>\n",
       "</tbody>\n",
       "</table>\n"
      ],
      "text/latex": [
       "A data.frame: 4 × 4\n",
       "\\begin{tabular}{llll}\n",
       " Model & data & r\\_sqr & rmse\\\\\n",
       " <chr> & <chr> & <dbl> & <dbl>\\\\\n",
       "\\hline\n",
       "\t mean model & train & 0.00 & 4026.17\\\\\n",
       "\t mean model & test  & 0.00 & 3912.36\\\\\n",
       "\t full model & train & 0.37 & 3207.63\\\\\n",
       "\t full model & test  & 0.35 & 3153.77\\\\\n",
       "\\end{tabular}\n"
      ],
      "text/markdown": [
       "\n",
       "A data.frame: 4 × 4\n",
       "\n",
       "| Model &lt;chr&gt; | data &lt;chr&gt; | r_sqr &lt;dbl&gt; | rmse &lt;dbl&gt; |\n",
       "|---|---|---|---|\n",
       "| mean model | train | 0.00 | 4026.17 |\n",
       "| mean model | test  | 0.00 | 3912.36 |\n",
       "| full model | train | 0.37 | 3207.63 |\n",
       "| full model | test  | 0.35 | 3153.77 |\n",
       "\n"
      ],
      "text/plain": [
       "  Model      data  r_sqr rmse   \n",
       "1 mean model train 0.00  4026.17\n",
       "2 mean model test  0.00  3912.36\n",
       "3 full model train 0.37  3207.63\n",
       "4 full model test  0.35  3153.77"
      ]
     },
     "metadata": {},
     "output_type": "display_data"
    }
   ],
   "source": [
    "full_model <- lm(Stars ~ ., data = git_tr)\n",
    "full_model_summary <- summary(full_model)\n",
    "preds <- predict(full_model, newdata = git_te, type = \"response\")\n",
    "full_model_results <- data.frame(\n",
    "    Model = c(\"full model\", \"full model\"),\n",
    "    data = c(\"train\", \"test\"), \n",
    "    r_sqr = c(round(full_model_summary$r.squared, 2),\n",
    "              round(compute_r_sqr(git_te$Stars, preds), 2)),\n",
    "    rmse = c(round(rmse(git_tr$Stars, full_model$fitted.values), 2),\n",
    "             round(rmse(git_te$Stars, preds), 2))\n",
    ")\n",
    "results <- rbind(results, full_model_results)\n",
    "results"
   ]
  },
  {
   "cell_type": "code",
   "execution_count": 47,
   "metadata": {
    "vscode": {
     "languageId": "r"
    }
   },
   "outputs": [
    {
     "data": {
      "text/html": [
       "<table class=\"dataframe\">\n",
       "<caption>A tibble: 14 × 5</caption>\n",
       "<thead>\n",
       "\t<tr><th scope=col>term</th><th scope=col>estimate</th><th scope=col>std.error</th><th scope=col>statistic</th><th scope=col>p.value</th></tr>\n",
       "\t<tr><th scope=col>&lt;chr&gt;</th><th scope=col>&lt;dbl&gt;</th><th scope=col>&lt;dbl&gt;</th><th scope=col>&lt;dbl&gt;</th><th scope=col>&lt;dbl&gt;</th></tr>\n",
       "</thead>\n",
       "<tbody>\n",
       "\t<tr><td>(Intercept)         </td><td> 999.69</td><td> 97.92</td><td> 10.21</td><td>0.00</td></tr>\n",
       "\t<tr><td>Size                </td><td>   0.00</td><td>  0.00</td><td>  0.09</td><td>0.93</td></tr>\n",
       "\t<tr><td>Forks               </td><td>   1.68</td><td>  0.01</td><td>250.74</td><td>0.00</td></tr>\n",
       "\t<tr><td>Issues              </td><td>   2.94</td><td>  0.04</td><td> 66.54</td><td>0.00</td></tr>\n",
       "\t<tr><td>Has.IssuesTrue      </td><td>  49.66</td><td> 48.52</td><td>  1.02</td><td>0.31</td></tr>\n",
       "\t<tr><td>Has.ProjectsTrue    </td><td>-271.55</td><td> 30.43</td><td> -8.92</td><td>0.00</td></tr>\n",
       "\t<tr><td>Has.DownloadsTrue   </td><td>-157.83</td><td> 87.87</td><td> -1.80</td><td>0.07</td></tr>\n",
       "\t<tr><td>Has.WikiTrue        </td><td>-196.93</td><td> 26.02</td><td> -7.57</td><td>0.00</td></tr>\n",
       "\t<tr><td>Has.PagesTrue       </td><td> 198.24</td><td> 21.77</td><td>  9.11</td><td>0.00</td></tr>\n",
       "\t<tr><td>Has.DiscussionsTrue </td><td> 754.00</td><td> 26.05</td><td> 28.95</td><td>0.00</td></tr>\n",
       "\t<tr><td>Is.ArchivedTrue     </td><td>-143.71</td><td> 33.78</td><td> -4.25</td><td>0.00</td></tr>\n",
       "\t<tr><td>Is.TemplateTrue     </td><td>-473.10</td><td>104.17</td><td> -4.54</td><td>0.00</td></tr>\n",
       "\t<tr><td>Default_branchmaster</td><td> -13.30</td><td> 21.81</td><td> -0.61</td><td>0.54</td></tr>\n",
       "\t<tr><td>Default_branchother </td><td>  20.80</td><td> 41.40</td><td>  0.50</td><td>0.62</td></tr>\n",
       "</tbody>\n",
       "</table>\n"
      ],
      "text/latex": [
       "A tibble: 14 × 5\n",
       "\\begin{tabular}{lllll}\n",
       " term & estimate & std.error & statistic & p.value\\\\\n",
       " <chr> & <dbl> & <dbl> & <dbl> & <dbl>\\\\\n",
       "\\hline\n",
       "\t (Intercept)          &  999.69 &  97.92 &  10.21 & 0.00\\\\\n",
       "\t Size                 &    0.00 &   0.00 &   0.09 & 0.93\\\\\n",
       "\t Forks                &    1.68 &   0.01 & 250.74 & 0.00\\\\\n",
       "\t Issues               &    2.94 &   0.04 &  66.54 & 0.00\\\\\n",
       "\t Has.IssuesTrue       &   49.66 &  48.52 &   1.02 & 0.31\\\\\n",
       "\t Has.ProjectsTrue     & -271.55 &  30.43 &  -8.92 & 0.00\\\\\n",
       "\t Has.DownloadsTrue    & -157.83 &  87.87 &  -1.80 & 0.07\\\\\n",
       "\t Has.WikiTrue         & -196.93 &  26.02 &  -7.57 & 0.00\\\\\n",
       "\t Has.PagesTrue        &  198.24 &  21.77 &   9.11 & 0.00\\\\\n",
       "\t Has.DiscussionsTrue  &  754.00 &  26.05 &  28.95 & 0.00\\\\\n",
       "\t Is.ArchivedTrue      & -143.71 &  33.78 &  -4.25 & 0.00\\\\\n",
       "\t Is.TemplateTrue      & -473.10 & 104.17 &  -4.54 & 0.00\\\\\n",
       "\t Default\\_branchmaster &  -13.30 &  21.81 &  -0.61 & 0.54\\\\\n",
       "\t Default\\_branchother  &   20.80 &  41.40 &   0.50 & 0.62\\\\\n",
       "\\end{tabular}\n"
      ],
      "text/markdown": [
       "\n",
       "A tibble: 14 × 5\n",
       "\n",
       "| term &lt;chr&gt; | estimate &lt;dbl&gt; | std.error &lt;dbl&gt; | statistic &lt;dbl&gt; | p.value &lt;dbl&gt; |\n",
       "|---|---|---|---|---|\n",
       "| (Intercept)          |  999.69 |  97.92 |  10.21 | 0.00 |\n",
       "| Size                 |    0.00 |   0.00 |   0.09 | 0.93 |\n",
       "| Forks                |    1.68 |   0.01 | 250.74 | 0.00 |\n",
       "| Issues               |    2.94 |   0.04 |  66.54 | 0.00 |\n",
       "| Has.IssuesTrue       |   49.66 |  48.52 |   1.02 | 0.31 |\n",
       "| Has.ProjectsTrue     | -271.55 |  30.43 |  -8.92 | 0.00 |\n",
       "| Has.DownloadsTrue    | -157.83 |  87.87 |  -1.80 | 0.07 |\n",
       "| Has.WikiTrue         | -196.93 |  26.02 |  -7.57 | 0.00 |\n",
       "| Has.PagesTrue        |  198.24 |  21.77 |   9.11 | 0.00 |\n",
       "| Has.DiscussionsTrue  |  754.00 |  26.05 |  28.95 | 0.00 |\n",
       "| Is.ArchivedTrue      | -143.71 |  33.78 |  -4.25 | 0.00 |\n",
       "| Is.TemplateTrue      | -473.10 | 104.17 |  -4.54 | 0.00 |\n",
       "| Default_branchmaster |  -13.30 |  21.81 |  -0.61 | 0.54 |\n",
       "| Default_branchother  |   20.80 |  41.40 |   0.50 | 0.62 |\n",
       "\n"
      ],
      "text/plain": [
       "   term                 estimate std.error statistic p.value\n",
       "1  (Intercept)           999.69   97.92     10.21    0.00   \n",
       "2  Size                    0.00    0.00      0.09    0.93   \n",
       "3  Forks                   1.68    0.01    250.74    0.00   \n",
       "4  Issues                  2.94    0.04     66.54    0.00   \n",
       "5  Has.IssuesTrue         49.66   48.52      1.02    0.31   \n",
       "6  Has.ProjectsTrue     -271.55   30.43     -8.92    0.00   \n",
       "7  Has.DownloadsTrue    -157.83   87.87     -1.80    0.07   \n",
       "8  Has.WikiTrue         -196.93   26.02     -7.57    0.00   \n",
       "9  Has.PagesTrue         198.24   21.77      9.11    0.00   \n",
       "10 Has.DiscussionsTrue   754.00   26.05     28.95    0.00   \n",
       "11 Is.ArchivedTrue      -143.71   33.78     -4.25    0.00   \n",
       "12 Is.TemplateTrue      -473.10  104.17     -4.54    0.00   \n",
       "13 Default_branchmaster  -13.30   21.81     -0.61    0.54   \n",
       "14 Default_branchother    20.80   41.40      0.50    0.62   "
      ]
     },
     "metadata": {},
     "output_type": "display_data"
    }
   ],
   "source": [
    "full_model_summary %>% tidy() %>% mutate_if(is.numeric, round, 2)"
   ]
  },
  {
   "cell_type": "markdown",
   "metadata": {},
   "source": [
    "The full model significantly outperforms the mean model, achieving an $R^2$ score of 0.35 on the testing data with a root mean squared error (RMSE) of 3153.77. Additionally, the model does not exhibit overfitting, as the $R^2$ scores and RMSE values for the training and testing datasets are relatively similar. Interestingly, the model's RMSE is lower on the testing set compared to the training set, which may indicate better generalization or potential data-specific characteristics."
   ]
  },
  {
   "cell_type": "code",
   "execution_count": null,
   "metadata": {
    "vscode": {
     "languageId": "r"
    }
   },
   "outputs": [],
   "source": []
  }
 ],
 "metadata": {
  "kernelspec": {
   "display_name": "R",
   "language": "R",
   "name": "ir"
  },
  "language_info": {
   "codemirror_mode": "r",
   "file_extension": ".r",
   "mimetype": "text/x-r-source",
   "name": "R",
   "pygments_lexer": "r",
   "version": "4.3.2"
  }
 },
 "nbformat": 4,
 "nbformat_minor": 2
}
