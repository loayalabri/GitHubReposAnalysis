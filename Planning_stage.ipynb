{
 "cells": [
  {
   "cell_type": "markdown",
   "metadata": {},
   "source": [
    "# Planning Stage: Data Description & Exploratory Data Analysis and Visualization (individual assignment 1) \n",
    "Name: Loay Al Abri #84813229 \\\n",
    "Group 16\n"
   ]
  },
  {
   "cell_type": "code",
   "execution_count": 3,
   "metadata": {
    "vscode": {
     "languageId": "r"
    }
   },
   "outputs": [],
   "source": [
    "library(tidyverse)\n",
    "library(ggplot2)"
   ]
  },
  {
   "cell_type": "markdown",
   "metadata": {},
   "source": [
    "## Data Description"
   ]
  },
  {
   "cell_type": "markdown",
   "metadata": {},
   "source": [
    "The dataset used for this project is the GitHub Repositories data from Kaggle that can be accessed here: https://www.kaggle.com/datasets/donbarbos/github-repos/data. The dataset has over $215,000$ observations of top GitHub Repositories by star with over $167$ stars. The data was collected using the GitHub search API. \n",
    "#### The data set has the following 24 columns:\n",
    "- `Name` : a categorical variable that represents the name of the GitHub repository.\n",
    "- `Description`: a text that is brief textual description that summarizes the purpose or focus of the repository.\n",
    "- `URL`: a text that represents the web address that links to the GitHub repository, which is a unique identifier for the repository.\n",
    "- `Created At`: date-time of class POSIXct that represents the date and time the repository was created on.\n",
    "- `Updated At`: date-time of class POSIXct that represents the date and time of the most recent update to the repo.\n",
    "- `Homepage`: a text that represents the URL to the homepage or landing page associated with the repository, providing additional information or resources.\n",
    "- `Size`: a continous variable that represents the total size of the repositoy in bytes.\n",
    "- `Stars`: a continous variable that represents the number of stars or likes that the repository has received from other GitHub users.\n",
    "- `Forks`: a continous variable that represents the number of times the repository has been forked by other GitHub users.\n",
    "- `Issues`: a continous variable that represents the total number of open issues.\n",
    "- `Watchers`: a continous variable that represents the number of GitHub users who are \"watching\" or monitoring the repository for updates and changes.\n",
    "- `Language`: a categorical variable that represents the primary programming language of the repository.\n",
    "- `License`: a categorical variable that represents information about the software license using a license identifier.\n",
    "- `Topic`: a list of topics or tags associated with the repository, helping users discover related projects and topics of interest.\n",
    "- `Has Issues`: a categorical variable indicating if the repository has issues or not.\n",
    "- `Has Projects`: a categorical variable indicating whether the repository uses GitHub Projects to manage and organize tasks and work items.\n",
    "- `Has Downloads`: a categorical variable indicating whether the repository offers downloadable files or assets to users.\n",
    "- `Has Wiki`: a categorical variable indicating whether the repository has an associated wiki with additional documentation and information.\n",
    "- `Has Pages`: a categorical variable indicating whether the repository has GitHub Pages enabled, allowing the creation of a website associated with the repository.\n",
    "- `Has Discussions`: a categorical variable indicating whether the repository has GitHub Discussions enabled, allowing community discussions and collaboration.\n",
    "- `Is Fork`: a categorical variable indicating whether the repository is a fork of another repository. In this case, it's false, meaning it is not a fork.\n",
    "- `Is Archived`: a categorical variable indicating whether the repository is archived. Archived repositories are typically read-only and are no longer actively maintained.\n",
    "- `Is Template`: a categorical variable indicating whether the repository is set up as a template.\n",
    "- `Default Branch`: the name of the default branch."
   ]
  },
  {
   "cell_type": "code",
   "execution_count": 10,
   "metadata": {
    "vscode": {
     "languageId": "r"
    }
   },
   "outputs": [
    {
     "name": "stderr",
     "output_type": "stream",
     "text": [
      "\u001b[1mRows: \u001b[22m\u001b[34m215029\u001b[39m \u001b[1mColumns: \u001b[22m\u001b[34m24\u001b[39m\n",
      "\u001b[36m──\u001b[39m \u001b[1mColumn specification\u001b[22m \u001b[36m────────────────────────────────────────────────────────\u001b[39m\n",
      "\u001b[1mDelimiter:\u001b[22m \",\"\n",
      "\u001b[31mchr\u001b[39m  (8): Name, Description, URL, Homepage, Language, License, Topics, Defau...\n",
      "\u001b[32mdbl\u001b[39m  (5): Size, Stars, Forks, Issues, Watchers\n",
      "\u001b[33mlgl\u001b[39m  (9): Has Issues, Has Projects, Has Downloads, Has Wiki, Has Pages, Has ...\n",
      "\u001b[34mdttm\u001b[39m (2): Created At, Updated At\n",
      "\n",
      "\u001b[36mℹ\u001b[39m Use `spec()` to retrieve the full column specification for this data.\n",
      "\u001b[36mℹ\u001b[39m Specify the column types or set `show_col_types = FALSE` to quiet this message.\n"
     ]
    },
    {
     "data": {
      "text/html": [
       "<table class=\"dataframe\">\n",
       "<caption>A tibble: 6 × 24</caption>\n",
       "<thead>\n",
       "\t<tr><th scope=col>Name</th><th scope=col>Description</th><th scope=col>URL</th><th scope=col>Created At</th><th scope=col>Updated At</th><th scope=col>Homepage</th><th scope=col>Size</th><th scope=col>Stars</th><th scope=col>Forks</th><th scope=col>Issues</th><th scope=col>⋯</th><th scope=col>Has Issues</th><th scope=col>Has Projects</th><th scope=col>Has Downloads</th><th scope=col>Has Wiki</th><th scope=col>Has Pages</th><th scope=col>Has Discussions</th><th scope=col>Is Fork</th><th scope=col>Is Archived</th><th scope=col>Is Template</th><th scope=col>Default Branch</th></tr>\n",
       "\t<tr><th scope=col>&lt;chr&gt;</th><th scope=col>&lt;chr&gt;</th><th scope=col>&lt;chr&gt;</th><th scope=col>&lt;dttm&gt;</th><th scope=col>&lt;dttm&gt;</th><th scope=col>&lt;chr&gt;</th><th scope=col>&lt;dbl&gt;</th><th scope=col>&lt;dbl&gt;</th><th scope=col>&lt;dbl&gt;</th><th scope=col>&lt;dbl&gt;</th><th scope=col>⋯</th><th scope=col>&lt;lgl&gt;</th><th scope=col>&lt;lgl&gt;</th><th scope=col>&lt;lgl&gt;</th><th scope=col>&lt;lgl&gt;</th><th scope=col>&lt;lgl&gt;</th><th scope=col>&lt;lgl&gt;</th><th scope=col>&lt;lgl&gt;</th><th scope=col>&lt;lgl&gt;</th><th scope=col>&lt;lgl&gt;</th><th scope=col>&lt;chr&gt;</th></tr>\n",
       "</thead>\n",
       "<tbody>\n",
       "\t<tr><td>freeCodeCamp               </td><td>freeCodeCamp.org's open-source codebase and curriculum. Learn to code for free.         </td><td>https://github.com/freeCodeCamp/freeCodeCamp             </td><td>2014-12-24 17:49:19</td><td>2023-09-21 11:32:33</td><td>http://contribute.freecodecamp.org/                      </td><td>387451</td><td>374074</td><td>33599</td><td>  248</td><td>⋯</td><td> TRUE</td><td> TRUE</td><td>TRUE</td><td>FALSE</td><td> TRUE</td><td>FALSE</td><td>FALSE</td><td>FALSE</td><td>FALSE</td><td>main  </td></tr>\n",
       "\t<tr><td>free-programming-books     </td><td>:books: Freely available programming books                                              </td><td>https://github.com/EbookFoundation/free-programming-books</td><td>2013-10-11 06:50:37</td><td>2023-09-21 11:09:25</td><td>https://ebookfoundation.github.io/free-programming-books/</td><td> 17087</td><td>298393</td><td>57194</td><td>   46</td><td>⋯</td><td> TRUE</td><td>FALSE</td><td>TRUE</td><td>FALSE</td><td> TRUE</td><td>FALSE</td><td>FALSE</td><td>FALSE</td><td>FALSE</td><td>main  </td></tr>\n",
       "\t<tr><td>awesome                    </td><td>😎 Awesome lists about all kinds of interesting topics                                  </td><td>https://github.com/sindresorhus/awesome                  </td><td>2014-07-11 13:42:37</td><td>2023-09-21 11:18:22</td><td>NA                                                       </td><td>  1441</td><td>269997</td><td>26485</td><td>   61</td><td>⋯</td><td> TRUE</td><td>FALSE</td><td>TRUE</td><td>FALSE</td><td> TRUE</td><td>FALSE</td><td>FALSE</td><td>FALSE</td><td>FALSE</td><td>main  </td></tr>\n",
       "\t<tr><td>996.ICU                    </td><td>Repo for counting stars and contributing. Press F to pay respect to glorious developers.</td><td>https://github.com/996icu/996.ICU                        </td><td>2019-03-26 07:31:14</td><td>2023-09-21 08:09:01</td><td>https://996.icu                                          </td><td>187799</td><td>267901</td><td>21497</td><td>16712</td><td>⋯</td><td>FALSE</td><td>FALSE</td><td>TRUE</td><td>FALSE</td><td>FALSE</td><td>FALSE</td><td>FALSE</td><td> TRUE</td><td>FALSE</td><td>master</td></tr>\n",
       "\t<tr><td>coding-interview-university</td><td>A complete computer science study plan to become a software engineer.                   </td><td>https://github.com/jwasham/coding-interview-university   </td><td>2016-06-06 02:34:12</td><td>2023-09-21 10:54:48</td><td>NA                                                       </td><td> 20998</td><td>265161</td><td>69434</td><td>   56</td><td>⋯</td><td> TRUE</td><td>FALSE</td><td>TRUE</td><td>FALSE</td><td>FALSE</td><td>FALSE</td><td>FALSE</td><td>FALSE</td><td>FALSE</td><td>main  </td></tr>\n",
       "\t<tr><td>public-apis                </td><td>A collective list of free APIs                                                          </td><td>https://github.com/public-apis/public-apis               </td><td>2016-03-20 23:49:42</td><td>2023-09-21 11:22:06</td><td>http://public-apis.org                                   </td><td>  5088</td><td>256615</td><td>29254</td><td>  191</td><td>⋯</td><td> TRUE</td><td>FALSE</td><td>TRUE</td><td>FALSE</td><td>FALSE</td><td>FALSE</td><td>FALSE</td><td>FALSE</td><td>FALSE</td><td>master</td></tr>\n",
       "</tbody>\n",
       "</table>\n"
      ],
      "text/latex": [
       "A tibble: 6 × 24\n",
       "\\begin{tabular}{lllllllllllllllllllll}\n",
       " Name & Description & URL & Created At & Updated At & Homepage & Size & Stars & Forks & Issues & ⋯ & Has Issues & Has Projects & Has Downloads & Has Wiki & Has Pages & Has Discussions & Is Fork & Is Archived & Is Template & Default Branch\\\\\n",
       " <chr> & <chr> & <chr> & <dttm> & <dttm> & <chr> & <dbl> & <dbl> & <dbl> & <dbl> & ⋯ & <lgl> & <lgl> & <lgl> & <lgl> & <lgl> & <lgl> & <lgl> & <lgl> & <lgl> & <chr>\\\\\n",
       "\\hline\n",
       "\t freeCodeCamp                & freeCodeCamp.org's open-source codebase and curriculum. Learn to code for free.          & https://github.com/freeCodeCamp/freeCodeCamp              & 2014-12-24 17:49:19 & 2023-09-21 11:32:33 & http://contribute.freecodecamp.org/                       & 387451 & 374074 & 33599 &   248 & ⋯ &  TRUE &  TRUE & TRUE & FALSE &  TRUE & FALSE & FALSE & FALSE & FALSE & main  \\\\\n",
       "\t free-programming-books      & :books: Freely available programming books                                               & https://github.com/EbookFoundation/free-programming-books & 2013-10-11 06:50:37 & 2023-09-21 11:09:25 & https://ebookfoundation.github.io/free-programming-books/ &  17087 & 298393 & 57194 &    46 & ⋯ &  TRUE & FALSE & TRUE & FALSE &  TRUE & FALSE & FALSE & FALSE & FALSE & main  \\\\\n",
       "\t awesome                     & 😎 Awesome lists about all kinds of interesting topics                                   & https://github.com/sindresorhus/awesome                   & 2014-07-11 13:42:37 & 2023-09-21 11:18:22 & NA                                                        &   1441 & 269997 & 26485 &    61 & ⋯ &  TRUE & FALSE & TRUE & FALSE &  TRUE & FALSE & FALSE & FALSE & FALSE & main  \\\\\n",
       "\t 996.ICU                     & Repo for counting stars and contributing. Press F to pay respect to glorious developers. & https://github.com/996icu/996.ICU                         & 2019-03-26 07:31:14 & 2023-09-21 08:09:01 & https://996.icu                                           & 187799 & 267901 & 21497 & 16712 & ⋯ & FALSE & FALSE & TRUE & FALSE & FALSE & FALSE & FALSE &  TRUE & FALSE & master\\\\\n",
       "\t coding-interview-university & A complete computer science study plan to become a software engineer.                    & https://github.com/jwasham/coding-interview-university    & 2016-06-06 02:34:12 & 2023-09-21 10:54:48 & NA                                                        &  20998 & 265161 & 69434 &    56 & ⋯ &  TRUE & FALSE & TRUE & FALSE & FALSE & FALSE & FALSE & FALSE & FALSE & main  \\\\\n",
       "\t public-apis                 & A collective list of free APIs                                                           & https://github.com/public-apis/public-apis                & 2016-03-20 23:49:42 & 2023-09-21 11:22:06 & http://public-apis.org                                    &   5088 & 256615 & 29254 &   191 & ⋯ &  TRUE & FALSE & TRUE & FALSE & FALSE & FALSE & FALSE & FALSE & FALSE & master\\\\\n",
       "\\end{tabular}\n"
      ],
      "text/markdown": [
       "\n",
       "A tibble: 6 × 24\n",
       "\n",
       "| Name &lt;chr&gt; | Description &lt;chr&gt; | URL &lt;chr&gt; | Created At &lt;dttm&gt; | Updated At &lt;dttm&gt; | Homepage &lt;chr&gt; | Size &lt;dbl&gt; | Stars &lt;dbl&gt; | Forks &lt;dbl&gt; | Issues &lt;dbl&gt; | ⋯ ⋯ | Has Issues &lt;lgl&gt; | Has Projects &lt;lgl&gt; | Has Downloads &lt;lgl&gt; | Has Wiki &lt;lgl&gt; | Has Pages &lt;lgl&gt; | Has Discussions &lt;lgl&gt; | Is Fork &lt;lgl&gt; | Is Archived &lt;lgl&gt; | Is Template &lt;lgl&gt; | Default Branch &lt;chr&gt; |\n",
       "|---|---|---|---|---|---|---|---|---|---|---|---|---|---|---|---|---|---|---|---|---|\n",
       "| freeCodeCamp                | freeCodeCamp.org's open-source codebase and curriculum. Learn to code for free.          | https://github.com/freeCodeCamp/freeCodeCamp              | 2014-12-24 17:49:19 | 2023-09-21 11:32:33 | http://contribute.freecodecamp.org/                       | 387451 | 374074 | 33599 |   248 | ⋯ |  TRUE |  TRUE | TRUE | FALSE |  TRUE | FALSE | FALSE | FALSE | FALSE | main   |\n",
       "| free-programming-books      | :books: Freely available programming books                                               | https://github.com/EbookFoundation/free-programming-books | 2013-10-11 06:50:37 | 2023-09-21 11:09:25 | https://ebookfoundation.github.io/free-programming-books/ |  17087 | 298393 | 57194 |    46 | ⋯ |  TRUE | FALSE | TRUE | FALSE |  TRUE | FALSE | FALSE | FALSE | FALSE | main   |\n",
       "| awesome                     | 😎 Awesome lists about all kinds of interesting topics                                   | https://github.com/sindresorhus/awesome                   | 2014-07-11 13:42:37 | 2023-09-21 11:18:22 | NA                                                        |   1441 | 269997 | 26485 |    61 | ⋯ |  TRUE | FALSE | TRUE | FALSE |  TRUE | FALSE | FALSE | FALSE | FALSE | main   |\n",
       "| 996.ICU                     | Repo for counting stars and contributing. Press F to pay respect to glorious developers. | https://github.com/996icu/996.ICU                         | 2019-03-26 07:31:14 | 2023-09-21 08:09:01 | https://996.icu                                           | 187799 | 267901 | 21497 | 16712 | ⋯ | FALSE | FALSE | TRUE | FALSE | FALSE | FALSE | FALSE |  TRUE | FALSE | master |\n",
       "| coding-interview-university | A complete computer science study plan to become a software engineer.                    | https://github.com/jwasham/coding-interview-university    | 2016-06-06 02:34:12 | 2023-09-21 10:54:48 | NA                                                        |  20998 | 265161 | 69434 |    56 | ⋯ |  TRUE | FALSE | TRUE | FALSE | FALSE | FALSE | FALSE | FALSE | FALSE | main   |\n",
       "| public-apis                 | A collective list of free APIs                                                           | https://github.com/public-apis/public-apis                | 2016-03-20 23:49:42 | 2023-09-21 11:22:06 | http://public-apis.org                                    |   5088 | 256615 | 29254 |   191 | ⋯ |  TRUE | FALSE | TRUE | FALSE | FALSE | FALSE | FALSE | FALSE | FALSE | master |\n",
       "\n"
      ],
      "text/plain": [
       "  Name                       \n",
       "1 freeCodeCamp               \n",
       "2 free-programming-books     \n",
       "3 awesome                    \n",
       "4 996.ICU                    \n",
       "5 coding-interview-university\n",
       "6 public-apis                \n",
       "  Description                                                                             \n",
       "1 freeCodeCamp.org's open-source codebase and curriculum. Learn to code for free.         \n",
       "2 :books: Freely available programming books                                              \n",
       "3 😎 Awesome lists about all kinds of interesting topics                                  \n",
       "4 Repo for counting stars and contributing. Press F to pay respect to glorious developers.\n",
       "5 A complete computer science study plan to become a software engineer.                   \n",
       "6 A collective list of free APIs                                                          \n",
       "  URL                                                       Created At         \n",
       "1 https://github.com/freeCodeCamp/freeCodeCamp              2014-12-24 17:49:19\n",
       "2 https://github.com/EbookFoundation/free-programming-books 2013-10-11 06:50:37\n",
       "3 https://github.com/sindresorhus/awesome                   2014-07-11 13:42:37\n",
       "4 https://github.com/996icu/996.ICU                         2019-03-26 07:31:14\n",
       "5 https://github.com/jwasham/coding-interview-university    2016-06-06 02:34:12\n",
       "6 https://github.com/public-apis/public-apis                2016-03-20 23:49:42\n",
       "  Updated At          Homepage                                                 \n",
       "1 2023-09-21 11:32:33 http://contribute.freecodecamp.org/                      \n",
       "2 2023-09-21 11:09:25 https://ebookfoundation.github.io/free-programming-books/\n",
       "3 2023-09-21 11:18:22 NA                                                       \n",
       "4 2023-09-21 08:09:01 https://996.icu                                          \n",
       "5 2023-09-21 10:54:48 NA                                                       \n",
       "6 2023-09-21 11:22:06 http://public-apis.org                                   \n",
       "  Size   Stars  Forks Issues ⋯ Has Issues Has Projects Has Downloads Has Wiki\n",
       "1 387451 374074 33599   248  ⋯  TRUE       TRUE        TRUE          FALSE   \n",
       "2  17087 298393 57194    46  ⋯  TRUE      FALSE        TRUE          FALSE   \n",
       "3   1441 269997 26485    61  ⋯  TRUE      FALSE        TRUE          FALSE   \n",
       "4 187799 267901 21497 16712  ⋯ FALSE      FALSE        TRUE          FALSE   \n",
       "5  20998 265161 69434    56  ⋯  TRUE      FALSE        TRUE          FALSE   \n",
       "6   5088 256615 29254   191  ⋯  TRUE      FALSE        TRUE          FALSE   \n",
       "  Has Pages Has Discussions Is Fork Is Archived Is Template Default Branch\n",
       "1  TRUE     FALSE           FALSE   FALSE       FALSE       main          \n",
       "2  TRUE     FALSE           FALSE   FALSE       FALSE       main          \n",
       "3  TRUE     FALSE           FALSE   FALSE       FALSE       main          \n",
       "4 FALSE     FALSE           FALSE    TRUE       FALSE       master        \n",
       "5 FALSE     FALSE           FALSE   FALSE       FALSE       main          \n",
       "6 FALSE     FALSE           FALSE   FALSE       FALSE       master        "
      ]
     },
     "metadata": {},
     "output_type": "display_data"
    }
   ],
   "source": [
    "# Reading the data\n",
    "git_rep <- read_csv(\"data/repositories.csv\")\n",
    "head(git_rep)"
   ]
  },
  {
   "cell_type": "markdown",
   "metadata": {},
   "source": [
    "## Research Questions"
   ]
  },
  {
   "cell_type": "markdown",
   "metadata": {},
   "source": [
    "In this project, we are will investigate the following questions:\n"
   ]
  }
 ],
 "metadata": {
  "kernelspec": {
   "display_name": "R",
   "language": "R",
   "name": "ir"
  },
  "language_info": {
   "codemirror_mode": "r",
   "file_extension": ".r",
   "mimetype": "text/x-r-source",
   "name": "R",
   "pygments_lexer": "r",
   "version": "4.3.2"
  }
 },
 "nbformat": 4,
 "nbformat_minor": 2
}
